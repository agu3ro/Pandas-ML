{
 "cells": [
  {
   "cell_type": "code",
   "execution_count": 2,
   "id": "9b9d1afa-7416-432d-afb2-b31aeb73aa86",
   "metadata": {},
   "outputs": [],
   "source": [
    "import pandas as pd\n",
    "import numpy as np"
   ]
  },
  {
   "cell_type": "code",
   "execution_count": 12,
   "id": "173dbfd4-543f-4be9-a6c6-1a39025e46cc",
   "metadata": {},
   "outputs": [
    {
     "data": {
      "text/html": [
       "<div>\n",
       "<style scoped>\n",
       "    .dataframe tbody tr th:only-of-type {\n",
       "        vertical-align: middle;\n",
       "    }\n",
       "\n",
       "    .dataframe tbody tr th {\n",
       "        vertical-align: top;\n",
       "    }\n",
       "\n",
       "    .dataframe thead th {\n",
       "        text-align: right;\n",
       "    }\n",
       "</style>\n",
       "<table border=\"1\" class=\"dataframe\">\n",
       "  <thead>\n",
       "    <tr style=\"text-align: right;\">\n",
       "      <th></th>\n",
       "      <th>Breed</th>\n",
       "      <th>Color</th>\n",
       "      <th>DogName</th>\n",
       "      <th>OwnerZip</th>\n",
       "    </tr>\n",
       "  </thead>\n",
       "  <tbody>\n",
       "    <tr>\n",
       "      <th>0</th>\n",
       "      <td>COCKAPOO</td>\n",
       "      <td>BROWN</td>\n",
       "      <td>CHARLEY</td>\n",
       "      <td>15236</td>\n",
       "    </tr>\n",
       "    <tr>\n",
       "      <th>1</th>\n",
       "      <td>GER SHEPHERD</td>\n",
       "      <td>BLACK/BROWN</td>\n",
       "      <td>TACODA</td>\n",
       "      <td>15238</td>\n",
       "    </tr>\n",
       "    <tr>\n",
       "      <th>2</th>\n",
       "      <td>BELG MALINOIS</td>\n",
       "      <td>BRINDLE</td>\n",
       "      <td>EICH</td>\n",
       "      <td>15238</td>\n",
       "    </tr>\n",
       "    <tr>\n",
       "      <th>3</th>\n",
       "      <td>MIXED</td>\n",
       "      <td>BLACK/BROWN</td>\n",
       "      <td>ARROW</td>\n",
       "      <td>15104</td>\n",
       "    </tr>\n",
       "    <tr>\n",
       "      <th>4</th>\n",
       "      <td>AM PIT BULL TERRIER</td>\n",
       "      <td>WHITE/BROWN</td>\n",
       "      <td>OAKLEY</td>\n",
       "      <td>15139</td>\n",
       "    </tr>\n",
       "  </tbody>\n",
       "</table>\n",
       "</div>"
      ],
      "text/plain": [
       "                 Breed        Color  DogName  OwnerZip\n",
       "0             COCKAPOO        BROWN  CHARLEY     15236\n",
       "1         GER SHEPHERD  BLACK/BROWN   TACODA     15238\n",
       "2        BELG MALINOIS      BRINDLE     EICH     15238\n",
       "3                MIXED  BLACK/BROWN    ARROW     15104\n",
       "4  AM PIT BULL TERRIER  WHITE/BROWN   OAKLEY     15139"
      ]
     },
     "execution_count": 12,
     "metadata": {},
     "output_type": "execute_result"
    }
   ],
   "source": [
    "my_df = pd.read_csv('dog_data_short.csv')\n",
    "my_df"
   ]
  },
  {
   "cell_type": "code",
   "execution_count": 13,
   "id": "4564c6b3-2f84-49e9-9ea5-bbeb19370dc5",
   "metadata": {},
   "outputs": [
    {
     "data": {
      "text/plain": [
       "Breed       GER SHEPHERD\n",
       "Color        BLACK/BROWN\n",
       "DogName           TACODA\n",
       "OwnerZip           15238\n",
       "Name: 1, dtype: object"
      ]
     },
     "execution_count": 13,
     "metadata": {},
     "output_type": "execute_result"
    }
   ],
   "source": [
    "# Grab Row (Location)\n",
    "my_df.loc[1]"
   ]
  },
  {
   "cell_type": "code",
   "execution_count": 14,
   "id": "1dd95ef5-4b45-4ec3-994f-0a518990dec3",
   "metadata": {},
   "outputs": [
    {
     "data": {
      "text/plain": [
       "Breed       COCKAPOO\n",
       "Color          BROWN\n",
       "DogName      CHARLEY\n",
       "OwnerZip       15236\n",
       "Name: 0, dtype: object"
      ]
     },
     "execution_count": 14,
     "metadata": {},
     "output_type": "execute_result"
    }
   ],
   "source": [
    "# Grab row (Index Location) if our row names are not digits from 0 to X, we can still reffer to them as indexes using iloc\n",
    "my_df.iloc[0]"
   ]
  },
  {
   "cell_type": "code",
   "execution_count": 15,
   "id": "42f23d41-be9f-49e3-a7dc-940a1116a957",
   "metadata": {},
   "outputs": [
    {
     "data": {
      "text/plain": [
       "'TACODA'"
      ]
     },
     "execution_count": 15,
     "metadata": {},
     "output_type": "execute_result"
    }
   ],
   "source": [
    "# Specific point\n",
    "my_df.loc[1,'DogName'] # Tacoda"
   ]
  },
  {
   "cell_type": "code",
   "execution_count": 18,
   "id": "ec9df1e3-b33a-41dd-9b1c-da74db7bb2c9",
   "metadata": {},
   "outputs": [
    {
     "data": {
      "text/html": [
       "<div>\n",
       "<style scoped>\n",
       "    .dataframe tbody tr th:only-of-type {\n",
       "        vertical-align: middle;\n",
       "    }\n",
       "\n",
       "    .dataframe tbody tr th {\n",
       "        vertical-align: top;\n",
       "    }\n",
       "\n",
       "    .dataframe thead th {\n",
       "        text-align: right;\n",
       "    }\n",
       "</style>\n",
       "<table border=\"1\" class=\"dataframe\">\n",
       "  <thead>\n",
       "    <tr style=\"text-align: right;\">\n",
       "      <th></th>\n",
       "      <th>DogName</th>\n",
       "      <th>Breed</th>\n",
       "      <th>Color</th>\n",
       "    </tr>\n",
       "  </thead>\n",
       "  <tbody>\n",
       "    <tr>\n",
       "      <th>1</th>\n",
       "      <td>TACODA</td>\n",
       "      <td>GER SHEPHERD</td>\n",
       "      <td>BLACK/BROWN</td>\n",
       "    </tr>\n",
       "    <tr>\n",
       "      <th>3</th>\n",
       "      <td>ARROW</td>\n",
       "      <td>MIXED</td>\n",
       "      <td>BLACK/BROWN</td>\n",
       "    </tr>\n",
       "  </tbody>\n",
       "</table>\n",
       "</div>"
      ],
      "text/plain": [
       "  DogName         Breed        Color\n",
       "1  TACODA  GER SHEPHERD  BLACK/BROWN\n",
       "3   ARROW         MIXED  BLACK/BROWN"
      ]
     },
     "execution_count": 18,
     "metadata": {},
     "output_type": "execute_result"
    }
   ],
   "source": [
    "# Subsets ['row', 'row'], ['column', 'column', 'column']\n",
    "my_df.loc[[1,3], ['DogName', 'Breed', 'Color']]"
   ]
  },
  {
   "cell_type": "code",
   "execution_count": null,
   "id": "765d4b6c-0a8c-46b2-8470-4335a1e42198",
   "metadata": {},
   "outputs": [],
   "source": []
  }
 ],
 "metadata": {
  "kernelspec": {
   "display_name": "Python 3 (ipykernel)",
   "language": "python",
   "name": "python3"
  },
  "language_info": {
   "codemirror_mode": {
    "name": "ipython",
    "version": 3
   },
   "file_extension": ".py",
   "mimetype": "text/x-python",
   "name": "python",
   "nbconvert_exporter": "python",
   "pygments_lexer": "ipython3",
   "version": "3.12.1"
  }
 },
 "nbformat": 4,
 "nbformat_minor": 5
}
