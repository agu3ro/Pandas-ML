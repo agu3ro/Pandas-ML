{
 "cells": [
  {
   "cell_type": "code",
   "execution_count": 2,
   "id": "d932f8d1-b3d7-4ab0-a048-005c0b6d585f",
   "metadata": {},
   "outputs": [],
   "source": [
    "import pandas as pd\n",
    "import numpy as np"
   ]
  },
  {
   "cell_type": "code",
   "execution_count": 6,
   "id": "9013b340-5a10-4709-b950-44b7f4006a32",
   "metadata": {},
   "outputs": [
    {
     "data": {
      "text/plain": [
       "0     5\n",
       "1     9\n",
       "2    12\n",
       "3    27\n",
       "dtype: int64"
      ]
     },
     "execution_count": 6,
     "metadata": {},
     "output_type": "execute_result"
    }
   ],
   "source": [
    "my_series = [5,9,12,27]\n",
    "my_var = pd.Series(my_series)\n",
    "my_var"
   ]
  },
  {
   "cell_type": "code",
   "execution_count": 8,
   "id": "529e0347-ed6b-4d2b-82db-18a5e45f1f0a",
   "metadata": {},
   "outputs": [
    {
     "data": {
      "text/plain": [
       "27"
      ]
     },
     "execution_count": 8,
     "metadata": {},
     "output_type": "execute_result"
    }
   ],
   "source": [
    "my_var[3]"
   ]
  },
  {
   "cell_type": "code",
   "execution_count": 19,
   "id": "32028682-b674-463b-80d5-7a22f84acc40",
   "metadata": {},
   "outputs": [
    {
     "data": {
      "text/plain": [
       "A     5\n",
       "B     9\n",
       "C    12\n",
       "D    27\n",
       "dtype: int64"
      ]
     },
     "execution_count": 19,
     "metadata": {},
     "output_type": "execute_result"
    }
   ],
   "source": [
    "# Labels using the index argument\n",
    "my_index = ['A','B','C','D']\n",
    "my_var2 = pd.Series(my_series, index=my_index)\n",
    "my_var2"
   ]
  },
  {
   "cell_type": "code",
   "execution_count": 21,
   "id": "ddb42026-f1ce-4552-91ad-3f33741672c6",
   "metadata": {},
   "outputs": [
    {
     "data": {
      "text/plain": [
       "9"
      ]
     },
     "execution_count": 21,
     "metadata": {},
     "output_type": "execute_result"
    }
   ],
   "source": [
    "my_var2[\"B\"]"
   ]
  },
  {
   "cell_type": "code",
   "execution_count": null,
   "id": "b186c2f5-7053-4d07-bf75-456c35ab3eb4",
   "metadata": {},
   "outputs": [],
   "source": [
    "# Key Value Dictionaries"
   ]
  },
  {
   "cell_type": "code",
   "execution_count": 22,
   "id": "ab8f68f0-b3ab-49eb-a2ab-f4ae7522b4f2",
   "metadata": {},
   "outputs": [
    {
     "data": {
      "text/plain": [
       "tesla       12\n",
       "mercedes    42\n",
       "bmw          3\n",
       "dtype: int64"
      ]
     },
     "execution_count": 22,
     "metadata": {},
     "output_type": "execute_result"
    }
   ],
   "source": [
    "cars = {'tesla':12,\n",
    "        'mercedes':42,\n",
    "        'bmw':3\n",
    "       }\n",
    "my_var3 = pd.Series(cars)\n",
    "my_var3"
   ]
  },
  {
   "cell_type": "code",
   "execution_count": 25,
   "id": "6d0f1663-acf9-413d-a57e-060a75f64fc1",
   "metadata": {},
   "outputs": [
    {
     "data": {
      "text/plain": [
       "3"
      ]
     },
     "execution_count": 25,
     "metadata": {},
     "output_type": "execute_result"
    }
   ],
   "source": [
    "my_var3['bmw']"
   ]
  },
  {
   "cell_type": "code",
   "execution_count": null,
   "id": "dde16c1c-cb83-4943-ae9e-f2c1edefa562",
   "metadata": {},
   "outputs": [],
   "source": []
  }
 ],
 "metadata": {
  "kernelspec": {
   "display_name": "Python 3 (ipykernel)",
   "language": "python",
   "name": "python3"
  },
  "language_info": {
   "codemirror_mode": {
    "name": "ipython",
    "version": 3
   },
   "file_extension": ".py",
   "mimetype": "text/x-python",
   "name": "python",
   "nbconvert_exporter": "python",
   "pygments_lexer": "ipython3",
   "version": "3.12.1"
  }
 },
 "nbformat": 4,
 "nbformat_minor": 5
}
